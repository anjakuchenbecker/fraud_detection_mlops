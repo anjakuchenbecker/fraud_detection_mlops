{
 "cells": [
  {
   "cell_type": "markdown",
   "metadata": {},
   "source": [
    "# Experiment Approach 1: \"TBD\"\n",
    "\n",
    "TODO-Intro\n",
    "\n",
    "TODO-TOC"
   ]
  },
  {
   "cell_type": "markdown",
   "metadata": {},
   "source": [
    "## Imports, common settings and environment overview"
   ]
  },
  {
   "cell_type": "code",
   "execution_count": 5,
   "metadata": {},
   "outputs": [
    {
     "name": "stdout",
     "output_type": "stream",
     "text": [
      "#---> Environment overview <---#\n",
      "conda 4.12.0\n",
      "Python 3.9.7\n",
      "mlflow, version 1.25.1\n",
      "Current tracking uri: http://mlflow_tracking_server:5555\n",
      "Current model registry uri: http://mlflow_tracking_server:5555\n"
     ]
    }
   ],
   "source": [
    "# ________________________________\n",
    "# Imports\n",
    "# ________________________________\n",
    "\n",
    "# External imports\n",
    "import mlflow\n",
    "# Internal imports\n",
    "# NA\n",
    "\n",
    "# ________________________________\n",
    "# Common settings\n",
    "# ________________________________\n",
    "\n",
    "# Set tracking uri (tracking server and registry server are the same / not separated)\n",
    "# No need to set the registry uri in addition, because it defaults to the tracking URI\n",
    "mlflow.set_tracking_uri(\"http://mlflow_tracking_server:5555\")\n",
    "\n",
    "# ________________________________\n",
    "# Environment overview\n",
    "# ________________________________\n",
    "\n",
    "print(\"#---> Environment overview <---#\")\n",
    "\n",
    "# Get current installed versions\n",
    "!conda --version\n",
    "!python3 --version\n",
    "!mlflow --version\n",
    "\n",
    "# Get the current tracking uri\n",
    "tracking_uri = mlflow.get_tracking_uri()\n",
    "print(f\"Current tracking uri: {tracking_uri}\")\n",
    "\n",
    "# Get the current model registry uri\n",
    "model_registry_uri = mlflow.get_registry_uri()\n",
    "print(f\"Current model registry uri: {model_registry_uri}\")"
   ]
  }
 ],
 "metadata": {
  "interpreter": {
   "hash": "d4d1e4263499bec80672ea0156c357c1ee493ec2b1c70f0acce89fc37c4a6abe"
  },
  "kernelspec": {
   "display_name": "Python 3.9.7 ('base')",
   "language": "python",
   "name": "python3"
  },
  "language_info": {
   "codemirror_mode": {
    "name": "ipython",
    "version": 3
   },
   "file_extension": ".py",
   "mimetype": "text/x-python",
   "name": "python",
   "nbconvert_exporter": "python",
   "pygments_lexer": "ipython3",
   "version": "3.9.7"
  },
  "orig_nbformat": 4
 },
 "nbformat": 4,
 "nbformat_minor": 2
}
