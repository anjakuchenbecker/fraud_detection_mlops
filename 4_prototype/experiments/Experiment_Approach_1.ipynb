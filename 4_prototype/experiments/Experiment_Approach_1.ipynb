{
 "cells": [
  {
   "cell_type": "markdown",
   "metadata": {},
   "source": [
    "# Experiment Approach 1: \"TBD\"\n",
    "\n",
    "TODO-Intro\n",
    "\n",
    "TODO-TOC"
   ]
  },
  {
   "cell_type": "markdown",
   "metadata": {},
   "source": [
    "## Imports, common settings and environment overview"
   ]
  },
  {
   "cell_type": "code",
   "execution_count": 120,
   "metadata": {},
   "outputs": [
    {
     "name": "stdout",
     "output_type": "stream",
     "text": [
      "#---> Environment overview <---#\n",
      "conda 4.10.3\n",
      "Python 3.9.7\n",
      "mlflow, version 1.25.1\n",
      "great_expectations, version 0.15.3\n",
      "\u001b[0mCurrent tracking uri: http://mlflow_tracking_server:5555\n",
      "Current model registry uri: http://mlflow_tracking_server:5555\n",
      "Current experiment: fraud_detection_approach_1 (ID 2)\n"
     ]
    }
   ],
   "source": [
    "# ________________________________\n",
    "# Imports\n",
    "# ________________________________\n",
    "\n",
    "# External imports\n",
    "import mlflow\n",
    "from mlflow.tracking import MlflowClient\n",
    "import mysql.connector as connection\n",
    "import pandas as pd\n",
    "import os\n",
    "from sklearn.model_selection import train_test_split\n",
    "import great_expectations as ge\n",
    "# Internal imports\n",
    "# NA\n",
    "\n",
    "# ________________________________\n",
    "# Common settings\n",
    "# ________________________________\n",
    "\n",
    "# Set tracking uri (tracking server and registry server are the same / not separated)\n",
    "# No need to set the registry uri in addition, because it defaults to the tracking URI\n",
    "mlflow.set_tracking_uri(\"http://mlflow_tracking_server:5555\")\n",
    "# Set experiment\n",
    "experiment = mlflow.set_experiment(\"fraud_detection_approach_1\")\n",
    "# Add experiment description\n",
    "client = MlflowClient()\n",
    "client.set_experiment_tag(experiment.experiment_id, \"mlflow.note.content\", \"TBD with application data from 2021\")\n",
    "\n",
    "# ________________________________\n",
    "# Environment overview\n",
    "# ________________________________\n",
    "\n",
    "print(\"#---> Environment overview <---#\")\n",
    "\n",
    "# Get current installed versions\n",
    "!conda --version\n",
    "!python3 --version\n",
    "!mlflow --version\n",
    "!great_expectations --version\n",
    "\n",
    "# Get the current tracking uri\n",
    "tracking_uri = mlflow.get_tracking_uri()\n",
    "print(f\"Current tracking uri: {tracking_uri}\")\n",
    "\n",
    "# Get the current model registry uri\n",
    "model_registry_uri = mlflow.get_registry_uri()\n",
    "print(f\"Current model registry uri: {model_registry_uri}\")\n",
    "\n",
    "# Get the current experiment\n",
    "print(f\"Current experiment: {experiment.name} (ID {experiment.experiment_id})\")"
   ]
  },
  {
   "cell_type": "markdown",
   "metadata": {},
   "source": [
    "# Ingest Data"
   ]
  },
  {
   "cell_type": "code",
   "execution_count": 2,
   "metadata": {},
   "outputs": [
    {
     "name": "stdout",
     "output_type": "stream",
     "text": [
      "8e503565ef2c437293361cdf965d694e\n"
     ]
    }
   ],
   "source": [
    "# Load raw data from datasource, split and save to csv\n",
    "try:\n",
    "    # Open connection to database\n",
    "    db = connection.connect(host=\"database\", \n",
    "                            database=\"db\", \n",
    "                            user=\"root\", \n",
    "                            passwd=\"\",\n",
    "                            use_pure=True)\n",
    "    # Read data (2021) from application table to pandas dataframe\n",
    "    query = f\"SELECT * FROM applications WHERE application_request_time LIKE '2021%' is_fraud_verified = 1 AND is_fraud IS NOT NULL;\"\n",
    "    raw_data_applications = pd.read_sql(query,db)\n",
    "    # Close connection\n",
    "    db.close() #close the connection\n",
    "\n",
    "    # Save to raw_data.csv\n",
    "    path_to_data = \"output/data\"\n",
    "    output_file_all = \"raw_data.csv\"\n",
    "    output_file_train = \"raw_data_train.csv\"\n",
    "    output_file_test = \"raw_data_test.csv\"\n",
    "    \n",
    "    # Create dir if not yet exists\n",
    "    os.makedirs(path_to_data, exist_ok=True)\n",
    "\n",
    "    # Split raw data\n",
    "    raw_data_applications_train, raw_data_applications_test = train_test_split(raw_data_applications, test_size=0.30, random_state=42)\n",
    "    \n",
    "    # Save to raw_data.csv\n",
    "    raw_data_applications.to_csv(\n",
    "        os.path.join(path_to_data, output_file_all), \n",
    "        sep=\";\", \n",
    "        encoding=\"utf-8\",\n",
    "        index=False)\n",
    "    \n",
    "    # Save to raw_data_train.csv\n",
    "    raw_data_applications_train.to_csv(\n",
    "        os.path.join(path_to_data, output_file_train), \n",
    "        sep=\";\", \n",
    "        encoding=\"utf-8\",\n",
    "        index=False)\n",
    "    \n",
    "    # Save to raw_data_test.csv\n",
    "    raw_data_applications_test.to_csv(\n",
    "        os.path.join(path_to_data, output_file_test), \n",
    "        sep=\";\", \n",
    "        encoding=\"utf-8\",\n",
    "        index=False)\n",
    "    \n",
    "    # Start a new MLflow run\n",
    "    with mlflow.start_run(run_name=\"applications in 2021\") as run:\n",
    "            # Log raw data files\n",
    "            mlflow.log_artifact(os.path.join(path_to_data, output_file_all), artifact_path=path_to_data)\n",
    "            mlflow.log_artifact(os.path.join(path_to_data, output_file_train), artifact_path=path_to_data)\n",
    "            mlflow.log_artifact(os.path.join(path_to_data, output_file_test), artifact_path=path_to_data)\n",
    "    \n",
    "    print(run.info.run_id)\n",
    "\n",
    "except Exception as e:\n",
    "    db.close()\n",
    "    print(str(e))"
   ]
  },
  {
   "cell_type": "markdown",
   "metadata": {},
   "source": [
    "# Validate Data"
   ]
  },
  {
   "cell_type": "code",
   "execution_count": 137,
   "metadata": {},
   "outputs": [],
   "source": [
    "# Check whether raw data files exist\n",
    "path_to_data = \"output/data\"\n",
    "raw_data_files = [f\"{path_to_data}/raw_data.csv\", \n",
    "                    f\"{path_to_data}/raw_data_train.csv\", \n",
    "                    f\"{path_to_data}/raw_data_test.csv\"]\n",
    "\n",
    "for file in raw_data_files:\n",
    "    if not os.path.exists(file):\n",
    "        raise FileNotFoundError(f\"raw data file not found {file}\")\n",
    "\n",
    "# Check schema for new data\n",
    "for file in raw_data_files:\n",
    "    # Read raw data file\n",
    "    raw_data_applications = ge.read_csv(file,\n",
    "                        sep=\";\",\n",
    "                        encoding=\"utf-8\")\n",
    "    \n",
    "    # Check 1: specific columns must exist in all raw data files\n",
    "    result = raw_data_applications.expect_table_columns_to_match_set(\n",
    "        column_set=[\"address\", \"application_request_time\", \"application_type\",\n",
    "                    \"birthday\", \"browser\", \"city\", \"device_type\", \"email\",\n",
    "                    \"first_name\", \"is_fraud\", \"is_fraud_verified\", \"last_name\",\n",
    "                    \"marital_status\", \"phone\", \"title\", \"trx\"\n",
    "        ], \n",
    "        exact_match=False\n",
    "    )\n",
    "\n",
    "    if not result.success:\n",
    "        raise AssertionError(result)\n",
    "\n",
    "    # Check 2: is_fraud column value must not be null\n",
    "    result = raw_data_applications.expect_column_values_to_not_be_null(\n",
    "        column=\"is_fraud\"\n",
    "    )\n",
    "\n",
    "    if not result.success:\n",
    "        raise AssertionError(result)\n",
    "    \n",
    "    # Check 3: is_fraud column value must be 0 or 1\n",
    "    result = raw_data_applications.expect_column_distinct_values_to_be_in_set(\n",
    "        column=\"is_fraud\",\n",
    "        value_set=[0,1]\n",
    "    )\n",
    "\n",
    "    if not result.success:\n",
    "        raise AssertionError(result)"
   ]
  }
 ],
 "metadata": {
  "interpreter": {
   "hash": "d4d1e4263499bec80672ea0156c357c1ee493ec2b1c70f0acce89fc37c4a6abe"
  },
  "kernelspec": {
   "display_name": "Python 3.9.7 ('base')",
   "language": "python",
   "name": "python3"
  },
  "language_info": {
   "codemirror_mode": {
    "name": "ipython",
    "version": 3
   },
   "file_extension": ".py",
   "mimetype": "text/x-python",
   "name": "python",
   "nbconvert_exporter": "python",
   "pygments_lexer": "ipython3",
   "version": "3.9.7"
  },
  "orig_nbformat": 4
 },
 "nbformat": 4,
 "nbformat_minor": 2
}
